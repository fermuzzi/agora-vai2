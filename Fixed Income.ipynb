{
 "cells": [
  {
   "cell_type": "code",
   "execution_count": 1,
   "id": "b1f17489",
   "metadata": {},
   "outputs": [],
   "source": [
    "import numpy as np\n",
    "import pandas as pd"
   ]
  },
  {
   "cell_type": "code",
   "execution_count": 8,
   "id": "0dbe7e79",
   "metadata": {},
   "outputs": [],
   "source": [
    "T=5\n",
    "t=np.linspace(0,5,11)\n",
    "coupon = 0.03"
   ]
  },
  {
   "cell_type": "code",
   "execution_count": 24,
   "id": "95e3ca18",
   "metadata": {},
   "outputs": [],
   "source": [
    "PV = np.array([coupon*np.exp(-6.8/100*(T-i)) for i in t])\n"
   ]
  },
  {
   "cell_type": "code",
   "execution_count": 25,
   "id": "cc5d4fef",
   "metadata": {},
   "outputs": [
    {
     "data": {
      "text/plain": [
       "array([0.02135311, 0.0220916 , 0.02285563, 0.02364608, 0.02446387,\n",
       "       0.02530994, 0.02618528, 0.02709089, 0.02802781, 0.02899715,\n",
       "       0.03      ])"
      ]
     },
     "execution_count": 25,
     "metadata": {},
     "output_type": "execute_result"
    }
   ],
   "source": [
    "PV"
   ]
  },
  {
   "cell_type": "code",
   "execution_count": 26,
   "id": "1dfcfbe0",
   "metadata": {},
   "outputs": [],
   "source": [
    "PV[0] = PV[0] + np.exp(-6.8/100)"
   ]
  },
  {
   "cell_type": "code",
   "execution_count": 27,
   "id": "e1db6fa1",
   "metadata": {},
   "outputs": [
    {
     "data": {
      "text/plain": [
       "array([0.95561358, 0.0220916 , 0.02285563, 0.02364608, 0.02446387,\n",
       "       0.02530994, 0.02618528, 0.02709089, 0.02802781, 0.02899715,\n",
       "       0.03      ])"
      ]
     },
     "execution_count": 27,
     "metadata": {},
     "output_type": "execute_result"
    }
   ],
   "source": [
    "PV"
   ]
  },
  {
   "cell_type": "code",
   "execution_count": 31,
   "id": "b0801560",
   "metadata": {},
   "outputs": [
    {
     "data": {
      "text/plain": [
       "1.214281830913963"
      ]
     },
     "execution_count": 31,
     "metadata": {},
     "output_type": "execute_result"
    }
   ],
   "source": [
    "PV.sum()"
   ]
  },
  {
   "cell_type": "code",
   "execution_count": 29,
   "id": "7990fad6",
   "metadata": {},
   "outputs": [
    {
     "data": {
      "text/plain": [
       "0.9342604735772135"
      ]
     },
     "execution_count": 29,
     "metadata": {},
     "output_type": "execute_result"
    }
   ],
   "source": [
    "np.exp(-6.8/100)"
   ]
  },
  {
   "cell_type": "code",
   "execution_count": 67,
   "id": "ab9e0ee4",
   "metadata": {},
   "outputs": [],
   "source": [
    "table = pd.DataFrame(np.zeros((11,4)),columns=['Time','Coupon','Principal','PV'])"
   ]
  },
  {
   "cell_type": "code",
   "execution_count": 68,
   "id": "4ff722c6",
   "metadata": {},
   "outputs": [],
   "source": [
    "table['Time'] = t\n",
    "table['Coupon'][1:] = coupon\n",
    "table.iloc[-1,2] = 1"
   ]
  },
  {
   "cell_type": "code",
   "execution_count": 75,
   "id": "6a92d13c",
   "metadata": {},
   "outputs": [],
   "source": [
    "for index, row in table.iterrows():\n",
    "    row['PV'] = row['Principal'] * np.exp(-6.8406/100*(row['Time'])) + row['Coupon'] *  np.exp(-6.8406/100*(row['Time'])) "
   ]
  },
  {
   "cell_type": "code",
   "execution_count": 76,
   "id": "dcd70c8a",
   "metadata": {},
   "outputs": [
    {
     "data": {
      "text/html": [
       "<div>\n",
       "<style scoped>\n",
       "    .dataframe tbody tr th:only-of-type {\n",
       "        vertical-align: middle;\n",
       "    }\n",
       "\n",
       "    .dataframe tbody tr th {\n",
       "        vertical-align: top;\n",
       "    }\n",
       "\n",
       "    .dataframe thead th {\n",
       "        text-align: right;\n",
       "    }\n",
       "</style>\n",
       "<table border=\"1\" class=\"dataframe\">\n",
       "  <thead>\n",
       "    <tr style=\"text-align: right;\">\n",
       "      <th></th>\n",
       "      <th>Time</th>\n",
       "      <th>Coupon</th>\n",
       "      <th>Principal</th>\n",
       "      <th>PV</th>\n",
       "    </tr>\n",
       "  </thead>\n",
       "  <tbody>\n",
       "    <tr>\n",
       "      <th>0</th>\n",
       "      <td>0.0</td>\n",
       "      <td>0.00</td>\n",
       "      <td>0.0</td>\n",
       "      <td>0.000000</td>\n",
       "    </tr>\n",
       "    <tr>\n",
       "      <th>1</th>\n",
       "      <td>0.5</td>\n",
       "      <td>0.03</td>\n",
       "      <td>0.0</td>\n",
       "      <td>0.028991</td>\n",
       "    </tr>\n",
       "    <tr>\n",
       "      <th>2</th>\n",
       "      <td>1.0</td>\n",
       "      <td>0.03</td>\n",
       "      <td>0.0</td>\n",
       "      <td>0.028016</td>\n",
       "    </tr>\n",
       "    <tr>\n",
       "      <th>3</th>\n",
       "      <td>1.5</td>\n",
       "      <td>0.03</td>\n",
       "      <td>0.0</td>\n",
       "      <td>0.027074</td>\n",
       "    </tr>\n",
       "    <tr>\n",
       "      <th>4</th>\n",
       "      <td>2.0</td>\n",
       "      <td>0.03</td>\n",
       "      <td>0.0</td>\n",
       "      <td>0.026164</td>\n",
       "    </tr>\n",
       "    <tr>\n",
       "      <th>5</th>\n",
       "      <td>2.5</td>\n",
       "      <td>0.03</td>\n",
       "      <td>0.0</td>\n",
       "      <td>0.025284</td>\n",
       "    </tr>\n",
       "    <tr>\n",
       "      <th>6</th>\n",
       "      <td>3.0</td>\n",
       "      <td>0.03</td>\n",
       "      <td>0.0</td>\n",
       "      <td>0.024434</td>\n",
       "    </tr>\n",
       "    <tr>\n",
       "      <th>7</th>\n",
       "      <td>3.5</td>\n",
       "      <td>0.03</td>\n",
       "      <td>0.0</td>\n",
       "      <td>0.023613</td>\n",
       "    </tr>\n",
       "    <tr>\n",
       "      <th>8</th>\n",
       "      <td>4.0</td>\n",
       "      <td>0.03</td>\n",
       "      <td>0.0</td>\n",
       "      <td>0.022819</td>\n",
       "    </tr>\n",
       "    <tr>\n",
       "      <th>9</th>\n",
       "      <td>4.5</td>\n",
       "      <td>0.03</td>\n",
       "      <td>0.0</td>\n",
       "      <td>0.022051</td>\n",
       "    </tr>\n",
       "    <tr>\n",
       "      <th>10</th>\n",
       "      <td>5.0</td>\n",
       "      <td>0.03</td>\n",
       "      <td>1.0</td>\n",
       "      <td>0.731637</td>\n",
       "    </tr>\n",
       "  </tbody>\n",
       "</table>\n",
       "</div>"
      ],
      "text/plain": [
       "    Time  Coupon  Principal        PV\n",
       "0    0.0    0.00        0.0  0.000000\n",
       "1    0.5    0.03        0.0  0.028991\n",
       "2    1.0    0.03        0.0  0.028016\n",
       "3    1.5    0.03        0.0  0.027074\n",
       "4    2.0    0.03        0.0  0.026164\n",
       "5    2.5    0.03        0.0  0.025284\n",
       "6    3.0    0.03        0.0  0.024434\n",
       "7    3.5    0.03        0.0  0.023613\n",
       "8    4.0    0.03        0.0  0.022819\n",
       "9    4.5    0.03        0.0  0.022051\n",
       "10   5.0    0.03        1.0  0.731637"
      ]
     },
     "execution_count": 76,
     "metadata": {},
     "output_type": "execute_result"
    }
   ],
   "source": [
    "table"
   ]
  },
  {
   "cell_type": "code",
   "execution_count": 77,
   "id": "a438f2b7",
   "metadata": {},
   "outputs": [
    {
     "data": {
      "text/plain": [
       "Time         27.500000\n",
       "Coupon        0.300000\n",
       "Principal     1.000000\n",
       "PV            0.960083\n",
       "dtype: float64"
      ]
     },
     "execution_count": 77,
     "metadata": {},
     "output_type": "execute_result"
    }
   ],
   "source": [
    "table.sum()"
   ]
  },
  {
   "cell_type": "code",
   "execution_count": null,
   "id": "dd880f58",
   "metadata": {},
   "outputs": [],
   "source": []
  }
 ],
 "metadata": {
  "kernelspec": {
   "display_name": "Python 3 (ipykernel)",
   "language": "python",
   "name": "python3"
  },
  "language_info": {
   "codemirror_mode": {
    "name": "ipython",
    "version": 3
   },
   "file_extension": ".py",
   "mimetype": "text/x-python",
   "name": "python",
   "nbconvert_exporter": "python",
   "pygments_lexer": "ipython3",
   "version": "3.9.12"
  }
 },
 "nbformat": 4,
 "nbformat_minor": 5
}
